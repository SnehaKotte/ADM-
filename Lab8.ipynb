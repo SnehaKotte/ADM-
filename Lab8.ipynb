{
  "nbformat": 4,
  "nbformat_minor": 0,
  "metadata": {
    "colab": {
      "provenance": [],
      "authorship_tag": "ABX9TyPysr7VshrkyHVZm5J98VLv",
      "include_colab_link": true
    },
    "kernelspec": {
      "name": "python3",
      "display_name": "Python 3"
    },
    "language_info": {
      "name": "python"
    }
  },
  "cells": [
    {
      "cell_type": "markdown",
      "metadata": {
        "id": "view-in-github",
        "colab_type": "text"
      },
      "source": [
        "<a href=\"https://colab.research.google.com/github/SnehaKotte/ADM-/blob/main/Lab8.ipynb\" target=\"_parent\"><img src=\"https://colab.research.google.com/assets/colab-badge.svg\" alt=\"Open In Colab\"/></a>"
      ]
    },
    {
      "cell_type": "code",
      "execution_count": null,
      "metadata": {
        "colab": {
          "base_uri": "https://localhost:8080/"
        },
        "id": "GcWY6Mkj5xhE",
        "outputId": "5a62faf1-7d23-4ed9-9c3b-4e30140d4f7b"
      },
      "outputs": [
        {
          "output_type": "stream",
          "name": "stdout",
          "text": [
            "Coefficients: [0.66666667 0.66666667 0.66666667]\n",
            "Intercept: 0.9999999999999982\n",
            "Mean Squared Error: 1.5777218104420236e-30\n",
            "R-squared Score: 1.0\n"
          ]
        }
      ],
      "source": [
        "# Sample dataset\n",
        "data = {\n",
        "    'Feature1': [1, 2, 3, 4, 5, 6, 7, 8, 9, 10],\n",
        "    'Feature2': [2, 3, 4, 5, 6, 7, 8, 9, 10, 11],\n",
        "    'Feature3': [3, 4, 5, 6, 7, 8, 9, 10, 11, 12],\n",
        "    'Target': [5, 7, 9, 11, 13, 15, 17, 19, 21, 23]\n",
        "}\n",
        "\n",
        "import pandas as pd\n",
        "from sklearn.model_selection import train_test_split\n",
        "from sklearn.linear_model import LinearRegression\n",
        "from sklearn.metrics import mean_squared_error, r2_score\n",
        "\n",
        "df = pd.DataFrame(data)\n",
        "X = df[['Feature1', 'Feature2', 'Feature3']]\n",
        "y = df['Target']\n",
        "X_train, X_test, y_train, y_test = train_test_split(X, y, test_size=0.2, random_state=42)\n",
        "model = LinearRegression()\n",
        "model.fit(X_train, y_train)\n",
        "y_pred = model.predict(X_test)\n",
        "print(f\"Coefficients: {model.coef_}\")\n",
        "print(f\"Intercept: {model.intercept_}\")\n",
        "mse = mean_squared_error(y_test, y_pred)\n",
        "r2 = r2_score(y_test, y_pred)\n",
        "print(f\"Mean Squared Error: {mse}\")\n",
        "print(f\"R-squared Score: {r2}\")"
      ]
    },
    {
      "cell_type": "code",
      "source": [
        "data1={\n",
        "    'TV':[230,44.5,17.2],\n",
        "    'Radio':[37.8,39.3,45.9],\n",
        "    'Newspaper':[69.2,45.1,69.3],\n",
        "    'Sales':[22.1,10.4,9.3]\n",
        "}"
      ],
      "metadata": {
        "id": "YRjP6VDd8yCs"
      },
      "execution_count": null,
      "outputs": []
    },
    {
      "cell_type": "code",
      "source": [
        "model = LinearRegression()\n",
        "model.fit(X_train, y_train)\n",
        "y_pred = model.predict(X_test)\n",
        "print(f\"Coefficients: {model.coef_}\")\n",
        "print(f\"Intercept: {model.intercept_}\")\n",
        "mse = mean_squared_error(y_test, y_pred)\n",
        "r2 = r2_score(y_test, y_pred)\n",
        "print(f\"Mean Squared Error: {mse}\")\n",
        "print(f\"R-squared Score: {r2}\")"
      ],
      "metadata": {
        "colab": {
          "base_uri": "https://localhost:8080/"
        },
        "id": "LlZ-GCx99I22",
        "outputId": "7bd2eae9-e392-4e73-ba5e-eca8306f9bb4"
      },
      "execution_count": null,
      "outputs": [
        {
          "output_type": "stream",
          "name": "stdout",
          "text": [
            "Coefficients: [0.66666667 0.66666667 0.66666667]\n",
            "Intercept: 0.9999999999999982\n",
            "Mean Squared Error: 1.5777218104420236e-30\n",
            "R-squared Score: 1.0\n"
          ]
        }
      ]
    }
  ]
}